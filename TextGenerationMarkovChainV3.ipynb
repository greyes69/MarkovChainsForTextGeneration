{
 "cells": [
  {
   "cell_type": "markdown",
   "id": "2b467b67-2628-4103-b620-da69051ff0e3",
   "metadata": {},
   "source": [
    "# Generating text with a Markov Chain model created with a dataset"
   ]
  },
  {
   "cell_type": "code",
   "execution_count": 2,
   "id": "454ffeb3-95f1-4464-8b6d-fb301dbebcdd",
   "metadata": {},
   "outputs": [],
   "source": [
    "from datasets import load_dataset\n",
    "import numpy as np\n",
    "import pandas as pd\n",
    "import os\n",
    "import re\n",
    "import string\n",
    "import nltk\n",
    "from nltk.corpus import gutenberg\n",
    "from nltk.tokenize import word_tokenize\n",
    "from nltk.corpus import stopwords\n",
    "import random\n",
    "#nltk.download('punkt_tab')\n",
    "#nltk.download('gutenberg')"
   ]
  },
  {
   "cell_type": "markdown",
   "id": "ae4f494e-981c-4ebb-96a2-84e689798bc4",
   "metadata": {},
   "source": [
    "## Downloading books from Gutenberg Project (or any other source)"
   ]
  },
  {
   "cell_type": "code",
   "execution_count": 4,
   "id": "16ac98d8-8ea1-4ccf-96cc-343a8be0b59b",
   "metadata": {},
   "outputs": [],
   "source": [
    "text1 = nltk.corpus.gutenberg.words('austen-persuasion.txt')\n",
    "text2 = nltk.corpus.gutenberg.words('austen-emma.txt')\n",
    "text3 = nltk.corpus.gutenberg.words('austen-sense.txt')\n",
    "\n",
    "#Extra books, not available directly through nltk.corpus.gutenberg.words. Just download the .txt files and tokenize them with word_tokenize \n",
    "#before you tokenize with the Tokenize function below\n",
    "\n",
    "with open(\"bookJA.txt\", \"r\", encoding=\"utf-8\") as file:\n",
    "    texttemp1 = file.read()  # Read the entire content of the file. Jane Austen's book \"Northanger Abbey\"\n",
    "text4 = word_tokenize(texttemp1)\n",
    "with open(\"bookJA1.txt\", \"r\", encoding=\"utf-8\") as file:\n",
    "    texttemp2 = file.read()  # Read the entire content of the file. Jane Austen's book \"Mansfield Park\"\n",
    "text5 = word_tokenize(texttemp2)\n",
    "with open(\"bookJA2.txt\", \"r\", encoding=\"utf-8\") as file:\n",
    "    texttemp3 = file.read()  # Read the entire content of the file. Jane Austen's book \"Love and Freindship\"\n",
    "text6 = word_tokenize(texttemp3)"
   ]
  },
  {
   "cell_type": "markdown",
   "id": "2493950d-4220-4063-8a62-dd4b1fe7fd6b",
   "metadata": {},
   "source": [
    "## Parameters of the model"
   ]
  },
  {
   "cell_type": "code",
   "execution_count": 6,
   "id": "f8855035-8782-4a66-a92a-e20db057be58",
   "metadata": {},
   "outputs": [],
   "source": [
    "n=3 #Length of n-grams\n",
    "L=10 #minimum number of n_grams\n",
    "M=100 #maximum number of n_grams\n",
    "punctuation_marks = {\".\", \"?\", \"!\"}"
   ]
  },
  {
   "cell_type": "markdown",
   "id": "43ff3dc0-73b1-437f-9f61-fd4b1d88cfa6",
   "metadata": {},
   "source": [
    "## Main Tokenizing function"
   ]
  },
  {
   "cell_type": "code",
   "execution_count": 34,
   "id": "1b8c8af1-e136-48fa-b90f-ca05a96ad8e3",
   "metadata": {},
   "outputs": [
    {
     "data": {
      "text/plain": [
       "True"
      ]
     },
     "execution_count": 34,
     "metadata": {},
     "output_type": "execute_result"
    }
   ],
   "source": [
    "def Tokenize(txt):\n",
    "    \"\"\"Tokenizes and cleans a given text string.\"\"\"\n",
    "    txt = \" \".join(txt)  # Convert list of words to a single string\n",
    "\n",
    "    txt = txt.lower()  # Convert to lowercase\n",
    "    #txt = re.sub(r\"[,.\\\"\\'!@#$%^&*(){}?/;`~:<>+=\\-\\\\]\", \"\", txt)  # Remove punctuation\n",
    "    txt = re.sub(r\"[,\\\"\\'@#$%^&*(){}/;`~:<>+=\\-\\\\]\", \"\", txt)  # Remove some characters\n",
    "    \n",
    "    tokens = word_tokenize(txt)  # Tokenize properly\n",
    "    words = [word for word in tokens if word.isalpha() or word in \".!?\"]  # Remove non-alphabetic tokens\n",
    "\n",
    "    return words\n",
    "\n",
    "#Convert words to string before processing\n",
    "combined_text = list(text1) + list(text2) + list(text3)+list(text4)+list(text5)+list(text6)  # Convert to standard lists\n",
    "Tokens = Tokenize(combined_text)  # Correctly tokenize"
   ]
  },
  {
   "cell_type": "markdown",
   "id": "21250f38-5608-4deb-ba19-bad308dc99e1",
   "metadata": {},
   "source": [
    "## Defining the model"
   ]
  },
  {
   "cell_type": "code",
   "execution_count": 10,
   "id": "11d2ff40-3cd0-44c8-9673-e7642f88fad9",
   "metadata": {},
   "outputs": [],
   "source": [
    "class MarkovModel:\n",
    "\n",
    "\tdef __init__(self, n_gram):\n",
    "\t\tself.n_gram = n_gram\n",
    "\t\tself.markov_model = {}\n",
    "\n",
    "\tdef build_model(self, text):\n",
    "\t\tfor i in range(len(text)-2*self.n_gram+1):\n",
    "\t\t\tcurr_state, next_state = \"\", \"\"\n",
    "\t\t\tfor j in range(self.n_gram):\n",
    "\t\t\t\tcurr_state += text[i+j] + \" \"\n",
    "\t\t\t\tnext_state += text[i+j+self.n_gram] + \" \"\n",
    "\t\t\tcurr_state = curr_state[:-1]\n",
    "\t\t\tnext_state = next_state[:-1]\n",
    "\t\t\tif curr_state not in self.markov_model:\n",
    "\t\t\t\tself.markov_model[curr_state] = {}\n",
    "\t\t\t\tself.markov_model[curr_state][next_state] = 1\n",
    "\t\t\telse:\n",
    "\t\t\t\tif next_state in self.markov_model[curr_state]:\n",
    "\t\t\t\t\tself.markov_model[curr_state][next_state] += 1\n",
    "\t\t\t\telse:\n",
    "\t\t\t\t\tself.markov_model[curr_state][next_state] = 1\n",
    "\n",
    "\t\t# calculating transition probabilities\n",
    "\t\tfor curr_state, transition in self.markov_model.items():\n",
    "\t\t\ttotal = sum(transition.values())\n",
    "\t\t\tfor state, count in transition.items():\n",
    "\t\t\t\tself.markov_model[curr_state][state] = count/total\n",
    "\n",
    "\tdef get_model(self):\n",
    "\t\treturn self.markov_model"
   ]
  },
  {
   "cell_type": "markdown",
   "id": "0eda7331-feb9-4fa0-913a-203eae3561ea",
   "metadata": {},
   "source": [
    "## Implementing the model on our tokens"
   ]
  },
  {
   "cell_type": "code",
   "execution_count": 32,
   "id": "b53e29ef-fb53-4c20-b7e9-303d082cd280",
   "metadata": {},
   "outputs": [
    {
     "name": "stdout",
     "output_type": "stream",
     "text": [
      "number of states =  464868\n",
      "['persuasion by jane', 'by jane austen', 'jane austen chapter', 'austen chapter sir', 'chapter sir walter', 'sir walter elliot', 'walter elliot of', 'elliot of kellynch', 'of kellynch hall', 'kellynch hall in', 'hall in somersetshire', 'in somersetshire was', 'somersetshire was a', 'was a man', 'a man who', 'man who for', 'who for his', 'for his own', 'his own amusement', 'own amusement never', 'amusement never took', 'never took up', 'took up any', 'up any book', 'any book but', 'book but the', 'but the baronetage', 'the baronetage there', 'baronetage there he', 'there he found', 'he found occupation', 'found occupation for', 'occupation for an', 'for an idle', 'an idle hour', 'idle hour and', 'hour and consolation', 'and consolation in', 'consolation in a', 'in a distressed', 'a distressed one', 'distressed one there', 'one there his', 'there his faculties', 'his faculties were', 'faculties were roused', 'were roused into', 'roused into admiration', 'into admiration and', 'admiration and respect']\n"
     ]
    },
    {
     "data": {
      "text/plain": [
       "False"
      ]
     },
     "execution_count": 32,
     "metadata": {},
     "output_type": "execute_result"
    }
   ],
   "source": [
    "markov = MarkovModel(n)\n",
    "markov.build_model(Tokens)\n",
    "print(\"number of states = \", len(markov.get_model().keys()))\n",
    "print(list(markov.get_model().keys())[:50])"
   ]
  },
  {
   "cell_type": "code",
   "execution_count": 13,
   "id": "d047ce91-1fe3-48e7-af18-5e06d29e1845",
   "metadata": {},
   "outputs": [],
   "source": [
    "def generate_sentences(markov, start, min_length, max_length):\n",
    "    n = 0\n",
    "    curr_state = start\n",
    "    next_state = None\n",
    "    story = \"\"\n",
    "    story += curr_state + \" \"\n",
    "    punctuation_marks = {\".\", \"?\", \"!\"}\n",
    "    ending = False\n",
    "\n",
    "    # First loop: Generate text until min_length is reached\n",
    "    while n < min_length:\n",
    "        if curr_state not in markov.keys():\n",
    "            return \"N-gram has the wrong size or has no next state\"\n",
    "        next_state = random.choices(list(markov[curr_state].keys()), list(markov[curr_state].values()))\n",
    "        curr_state = next_state[0]\n",
    "        story += curr_state + \" \"\n",
    "        n += 1\n",
    "\n",
    "    # Second loop: Continue generating until max_length or punctuation mark is found\n",
    "    while n < max_length:\n",
    "        next_state = random.choices(list(markov[curr_state].keys()), list(markov[curr_state].values()))\n",
    "        for i, char in enumerate(next_state[0]):\n",
    "            if char in punctuation_marks:  # Truncate the string up to and including the punctuation mark\n",
    "                final_state = next_state[0][:i + 1]\n",
    "                story += final_state\n",
    "                ending = True\n",
    "                break\n",
    "        if ending == True:\n",
    "            break\n",
    "        curr_state = next_state[0]\n",
    "        story += curr_state + \" \"\n",
    "        n += 1\n",
    "\n",
    "    return story"
   ]
  },
  {
   "cell_type": "code",
   "execution_count": 36,
   "id": "e8afcba1-f1a0-4ed7-a67d-255cc250f74a",
   "metadata": {},
   "outputs": [
    {
     "name": "stdout",
     "output_type": "stream",
     "text": [
      "0.  his faculties were roused into admiration and respect by contemplating the limited remnant of the earliest patents there any unwelcome sensations arising from domestic affairs changed naturally into pity and contempt as he turned over the almost endless creations of the last epistolary uses she could put them to .\n",
      "1.  his faculties were roused into admiration and respect by contemplating the limited remnant of the earliest patents there any unwelcome sensations arising from domestic affairs changed naturally into pity and contempt as he turned over the almost endless creations of the last fortnight and the present situation of matters at mansfield were known to him .\n",
      "2.  his faculties were roused into admiration and respect by contemplating the limited remnant of the earliest patents there any unwelcome sensations arising from domestic affairs changed naturally into pity and contempt as he turned over the almost endless creations of the last who would wish to represent it on the stage with miss bertram .\n",
      "3.  his faculties were roused into admiration and respect by contemplating the limited remnant of the earliest patents there any unwelcome sensations arising from domestic affairs changed naturally into pity and contempt as he turned over the almost endless creations of the last few moments .\n",
      "4.  his faculties were roused into admiration and respect by contemplating the limited remnant of the earliest patents there any unwelcome sensations arising from domestic affairs changed naturally into pity and contempt as he turned over the almost endless creations of the last word given to you and miss fairfax ?\n",
      "5.  his faculties were roused into admiration and respect by contemplating the limited remnant of the earliest patents there any unwelcome sensations arising from domestic affairs changed naturally into pity and contempt as he turned over the almost endless creations of the last seven years the equal footing and perfect unreserve which had soon followed isabella s marriage on their being left to each other was yet a dearer tenderer recollection .\n",
      "6.  his faculties were roused into admiration and respect by contemplating the limited remnant of the earliest patents there any unwelcome sensations arising from domestic affairs changed naturally into pity and contempt as he turned over the almost endless creations of the last fortnight and the present situation of matters at mansfield were known to him .\n",
      "7.  his faculties were roused into admiration and respect by contemplating the limited remnant of the earliest patents there any unwelcome sensations arising from domestic affairs changed naturally into pity and contempt as he turned over the almost endless creations of the last who would wish to represent it on the stage .\n",
      "8.  his faculties were roused into admiration and respect by contemplating the limited remnant of the earliest patents there any unwelcome sensations arising from domestic affairs changed naturally into pity and contempt as he turned over the almost endless creations of the last fortnight and the present situation of matters at mansfield were known to him .\n",
      "9.  his faculties were roused into admiration and respect by contemplating the limited remnant of the earliest patents there any unwelcome sensations arising from domestic affairs changed naturally into pity and contempt as he turned over the almost endless creations of the last smiles of the year upon the tawny leaves and withered hedges and from repeating to herself some few of the thousand poetical descriptions extant of autumn that season of peculiar and inexhaustible influence on the mind of taste and she listened to her and tried to console her but without any effect and at last as i saw that she must not expect scandal for by the same rule we are equally debarred either from hearing or inventing must expect from me nothing but the melancholy effusions of a broken heart !\n"
     ]
    }
   ],
   "source": [
    "# Generate 10 sentences\n",
    "for i in range(10):\n",
    "\tprint(str(i)+\". \", generate_sentences(\n",
    "\t\tmarkov.get_model(), start = 'his faculties were', min_length=L, max_length = M))"
   ]
  },
  {
   "cell_type": "code",
   "execution_count": null,
   "id": "5fdc69ac-f81d-449d-b183-737637138ef2",
   "metadata": {},
   "outputs": [],
   "source": []
  }
 ],
 "metadata": {
  "kernelspec": {
   "display_name": "Python 3 (ipykernel)",
   "language": "python",
   "name": "python3"
  },
  "language_info": {
   "codemirror_mode": {
    "name": "ipython",
    "version": 3
   },
   "file_extension": ".py",
   "mimetype": "text/x-python",
   "name": "python",
   "nbconvert_exporter": "python",
   "pygments_lexer": "ipython3",
   "version": "3.11.0"
  }
 },
 "nbformat": 4,
 "nbformat_minor": 5
}
